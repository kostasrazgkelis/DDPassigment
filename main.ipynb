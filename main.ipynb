{
 "cells": [
  {
   "cell_type": "code",
   "execution_count": 13,
   "outputs": [
    {
     "ename": "ModuleNotFoundError",
     "evalue": "No module named 'pandas'",
     "output_type": "error",
     "traceback": [
      "\u001B[1;31m---------------------------------------------------------------------------\u001B[0m",
      "\u001B[1;31mModuleNotFoundError\u001B[0m                       Traceback (most recent call last)",
      "Cell \u001B[1;32mIn[13], line 3\u001B[0m\n\u001B[0;32m      1\u001B[0m \u001B[38;5;28;01mimport\u001B[39;00m \u001B[38;5;21;01msqlite3\u001B[39;00m\n\u001B[0;32m      2\u001B[0m \u001B[38;5;28;01mimport\u001B[39;00m \u001B[38;5;21;01mredis\u001B[39;00m\n\u001B[1;32m----> 3\u001B[0m \u001B[38;5;28;01mimport\u001B[39;00m \u001B[38;5;21;01mpandas\u001B[39;00m \u001B[38;5;28;01mas\u001B[39;00m \u001B[38;5;21;01mpd\u001B[39;00m\n",
      "\u001B[1;31mModuleNotFoundError\u001B[0m: No module named 'pandas'"
     ]
    }
   ],
   "source": [
    "import sqlite3\n",
    "import redis\n",
    "import pandas as pd"
   ],
   "metadata": {
    "collapsed": false,
    "ExecuteTime": {
     "start_time": "2023-06-15T17:22:10.656094Z",
     "end_time": "2023-06-15T17:22:10.732963Z"
    }
   }
  },
  {
   "cell_type": "code",
   "execution_count": 4,
   "outputs": [],
   "source": [
    "conn = sqlite3.connect('data1/mydatabase.db')\n",
    "cursor = conn.cursor()\n",
    "\n",
    "r = redis.Redis(host='localhost', port=6379)"
   ],
   "metadata": {
    "collapsed": false,
    "ExecuteTime": {
     "start_time": "2023-06-15T17:23:08.665801Z",
     "end_time": "2023-06-15T17:23:08.672449Z"
    }
   }
  },
  {
   "cell_type": "code",
   "execution_count": 5,
   "outputs": [],
   "source": [
    "# Execute a SELECT query to fetch all rows from a table\n",
    "cursor.execute(\"SELECT * FROM dataset1\")\n",
    "sqlite_dataset1 = cursor.fetchall()\n",
    "redis_dataset1 = r.hgetall('dataset1')\n",
    "\n",
    "\n",
    "\n",
    "results = cursor.fetchall()\n",
    "for row in results:\n",
    "    print(row)\n"
   ],
   "metadata": {
    "collapsed": false,
    "ExecuteTime": {
     "start_time": "2023-06-15T17:23:11.101357Z",
     "end_time": "2023-06-15T17:23:11.169251Z"
    }
   }
  },
  {
   "cell_type": "code",
   "execution_count": 6,
   "outputs": [
    {
     "data": {
      "text/plain": "{b'34': b\"{'timestamp': datetime.datetime(2022, 9, 5, 7, 26, 46), 'name': 'Jessica Stewart', 'email': 'hensleymatthew@example.net'}\",\n b'99': b\"{'timestamp': datetime.datetime(2022, 10, 6, 3, 1, 17), 'name': 'Jacob Rivera', 'email': 'loganjones@example.org'}\",\n b'68': b\"{'timestamp': datetime.datetime(2023, 2, 11, 7, 56, 55), 'name': 'David Tyler', 'email': 'ggallagher@example.org'}\",\n b'21': b\"{'timestamp': datetime.datetime(2022, 10, 12, 3, 14, 3), 'name': 'Vicki Dickerson', 'email': 'cainrebecca@example.org'}\",\n b'25': b\"{'timestamp': datetime.datetime(2023, 4, 1, 6, 19, 1), 'name': 'Rachel Richardson', 'email': 'courtney33@example.net'}\",\n b'35': b\"{'timestamp': datetime.datetime(2023, 5, 5, 0, 46, 59), 'name': 'Linda Ryan', 'email': 'allenwright@example.net'}\",\n b'43': b\"{'timestamp': datetime.datetime(2023, 4, 26, 22, 54, 38), 'name': 'Brandon Stephens', 'email': 'qellis@example.net'}\",\n b'48': b\"{'timestamp': datetime.datetime(2022, 10, 1, 2, 42, 52), 'name': 'Heather Stanton', 'email': 'stevenjohnson@example.net'}\",\n b'65': b\"{'timestamp': datetime.datetime(2023, 5, 6, 11, 28, 57), 'name': 'Julie Booker', 'email': 'smoore@example.com'}\",\n b'73': b\"{'timestamp': datetime.datetime(2022, 7, 24, 5, 44, 36), 'name': 'Shelby Parker', 'email': 'mariahstrong@example.net'}\",\n b'56': b\"{'timestamp': datetime.datetime(2022, 11, 21, 7, 19, 47), 'name': 'Miss Cathy Anderson', 'email': 'brownmaurice@example.net'}\",\n b'88': b\"{'timestamp': datetime.datetime(2022, 7, 12, 4, 1, 30), 'name': 'Jesse Potts', 'email': 'clayton21@example.net'}\",\n b'81': b\"{'timestamp': datetime.datetime(2022, 12, 12, 15, 58, 19), 'name': 'Brooke Duke', 'email': 'hernandezmelissa@example.net'}\",\n b'27': b\"{'timestamp': datetime.datetime(2023, 2, 3, 23, 3, 29), 'name': 'Jason Farley', 'email': 'davissusan@example.com'}\",\n b'29': b\"{'timestamp': datetime.datetime(2022, 11, 5, 0, 48, 54), 'name': 'Andrew Jones', 'email': 'lawrencesarah@example.org'}\",\n b'45': b\"{'timestamp': datetime.datetime(2023, 4, 12, 13, 39, 48), 'name': 'Dr. Barbara Howell MD', 'email': 'patelkristina@example.org'}\",\n b'42': b\"{'timestamp': datetime.datetime(2023, 4, 18, 21, 23, 33), 'name': 'Wendy Sanders', 'email': 'reginaldjohnson@example.org'}\",\n b'33': b\"{'timestamp': datetime.datetime(2023, 4, 14, 16, 54, 9), 'name': 'Katelyn Morgan', 'email': 'dominique35@example.org'}\",\n b'13': b\"{'timestamp': datetime.datetime(2022, 10, 9, 13, 40, 40), 'name': 'Elizabeth Davis', 'email': 'lynnrodriguez@example.com'}\",\n b'66': b\"{'timestamp': datetime.datetime(2023, 2, 28, 11, 11, 13), 'name': 'Thomas Gardner', 'email': 'williambarber@example.net'}\",\n b'95': b\"{'timestamp': datetime.datetime(2023, 3, 7, 7, 9, 58), 'name': 'Patricia Sampson', 'email': 'amy15@example.org'}\",\n b'97': b\"{'timestamp': datetime.datetime(2023, 3, 20, 22, 48, 12), 'name': 'Amanda Myers', 'email': 'ian77@example.com'}\",\n b'63': b\"{'timestamp': datetime.datetime(2022, 11, 11, 3, 5, 6), 'name': 'Craig Alexander', 'email': 'pauldouglas@example.com'}\",\n b'6': b\"{'timestamp': datetime.datetime(2023, 5, 23, 8, 29, 42), 'name': 'Rachel Gray', 'email': 'xandrews@example.com'}\",\n b'16': b\"{'timestamp': datetime.datetime(2022, 9, 8, 11, 27, 38), 'name': 'Jason Jefferson', 'email': 'sjordan@example.com'}\",\n b'85': b\"{'timestamp': datetime.datetime(2023, 5, 2, 10, 34, 56), 'name': 'Albert Barnes', 'email': 'pamelahendrix@example.net'}\",\n b'86': b\"{'timestamp': datetime.datetime(2022, 6, 11, 15, 34, 54), 'name': 'Kerri Woods', 'email': 'wprice@example.org'}\",\n b'75': b\"{'timestamp': datetime.datetime(2022, 8, 21, 1, 38, 31), 'name': 'Pamela Cannon', 'email': 'caseygina@example.net'}\",\n b'80': b\"{'timestamp': datetime.datetime(2022, 8, 13, 10, 5), 'name': 'Jonathan Anderson', 'email': 'chapmanmichelle@example.net'}\",\n b'41': b\"{'timestamp': datetime.datetime(2022, 7, 23, 13, 51, 52), 'name': 'Michael Prince', 'email': 'francesaustin@example.org'}\",\n b'8': b\"{'timestamp': datetime.datetime(2023, 3, 8, 21, 43, 41), 'name': 'Joshua Shaw', 'email': 'fgarza@example.net'}\",\n b'5': b\"{'timestamp': datetime.datetime(2023, 3, 27, 0, 47, 5), 'name': 'Jamie Jackson', 'email': 'kathrynsimmons@example.net'}\",\n b'59': b\"{'timestamp': datetime.datetime(2023, 3, 19, 6, 23, 38), 'name': 'Misty Martin', 'email': 'ysmith@example.net'}\",\n b'67': b\"{'timestamp': datetime.datetime(2022, 12, 24, 21, 51, 25), 'name': 'Julie Lopez', 'email': 'nicole18@example.org'}\",\n b'87': b\"{'timestamp': datetime.datetime(2022, 7, 19, 2, 15, 45), 'name': 'John Black', 'email': 'alyssafuller@example.org'}\",\n b'20': b\"{'timestamp': datetime.datetime(2023, 3, 28, 9, 4, 35), 'name': 'Donna Bennett', 'email': 'jvasquez@example.com'}\",\n b'39': b\"{'timestamp': datetime.datetime(2023, 2, 5, 12, 3, 36), 'name': 'Christina Gordon', 'email': 'jonjohnson@example.org'}\",\n b'92': b\"{'timestamp': datetime.datetime(2022, 9, 28, 7, 48, 57), 'name': 'Stephanie Cook', 'email': 'rodriguezyvonne@example.net'}\",\n b'50': b\"{'timestamp': datetime.datetime(2022, 6, 20, 16, 8, 21), 'name': 'John Garcia', 'email': 'tony54@example.org'}\",\n b'90': b\"{'timestamp': datetime.datetime(2023, 1, 26, 19, 29, 35), 'name': 'Tammy Sanchez', 'email': 'simsricky@example.net'}\",\n b'22': b\"{'timestamp': datetime.datetime(2022, 9, 16, 22, 11, 54), 'name': 'Brett Patterson', 'email': 'molinapatrick@example.net'}\",\n b'46': b\"{'timestamp': datetime.datetime(2022, 11, 5, 15, 27, 17), 'name': 'Raymond Reynolds', 'email': 'kristina73@example.org'}\",\n b'64': b\"{'timestamp': datetime.datetime(2022, 8, 26, 18, 20, 11), 'name': 'Christopher Washington', 'email': 'ilong@example.com'}\",\n b'51': b\"{'timestamp': datetime.datetime(2022, 7, 14, 22, 42, 40), 'name': 'Terri Johnson', 'email': 'myates@example.net'}\",\n b'91': b\"{'timestamp': datetime.datetime(2022, 7, 19, 9, 36, 3), 'name': 'Rebecca Hill', 'email': 'benjaminmoon@example.net'}\",\n b'77': b\"{'timestamp': datetime.datetime(2023, 5, 2, 7, 39, 53), 'name': 'Laurie Mendez', 'email': 'charles02@example.com'}\",\n b'9': b\"{'timestamp': datetime.datetime(2023, 6, 7, 4, 28, 5), 'name': 'Mr. Christopher Miller', 'email': 'sampsonjessica@example.org'}\",\n b'36': b\"{'timestamp': datetime.datetime(2022, 9, 24, 6, 38, 33), 'name': 'Joshua Peterson', 'email': 'timothy45@example.com'}\",\n b'3': b\"{'timestamp': datetime.datetime(2022, 12, 12, 11, 12, 22), 'name': 'Rita Peterson', 'email': 'olivia89@example.com'}\",\n b'60': b\"{'timestamp': datetime.datetime(2022, 10, 20, 10, 11, 58), 'name': 'Doris Johnson', 'email': 'mball@example.net'}\",\n b'44': b\"{'timestamp': datetime.datetime(2023, 2, 3, 21, 32, 12), 'name': 'Jason Colon', 'email': 'webstergregory@example.org'}\",\n b'52': b\"{'timestamp': datetime.datetime(2023, 2, 26, 0, 36, 20), 'name': 'Megan Chavez', 'email': 'migueldickerson@example.net'}\",\n b'10': b\"{'timestamp': datetime.datetime(2022, 8, 14, 21, 21, 25), 'name': 'Amanda Moore', 'email': 'brittanymartinez@example.com'}\",\n b'70': b\"{'timestamp': datetime.datetime(2022, 12, 23, 0, 4, 35), 'name': 'Charles Bruce', 'email': 'byrdsheila@example.org'}\",\n b'96': b\"{'timestamp': datetime.datetime(2022, 8, 20, 20, 9, 5), 'name': 'Wendy Hubbard', 'email': 'fieldskeith@example.net'}\",\n b'11': b\"{'timestamp': datetime.datetime(2022, 12, 9, 3, 44, 10), 'name': 'Jennifer Long', 'email': 'pdelacruz@example.org'}\",\n b'72': b\"{'timestamp': datetime.datetime(2023, 5, 25, 16, 1, 7), 'name': 'Adam Sanford', 'email': 'blakewise@example.com'}\",\n b'54': b\"{'timestamp': datetime.datetime(2023, 5, 19, 8, 4, 19), 'name': 'Lisa Davis', 'email': 'harold47@example.org'}\",\n b'31': b\"{'timestamp': datetime.datetime(2022, 12, 28, 23, 23, 52), 'name': 'Sheila Hawkins', 'email': 'bryanjohnson@example.net'}\",\n b'23': b\"{'timestamp': datetime.datetime(2022, 11, 20, 14, 47, 41), 'name': 'Raymond Green', 'email': 'kimhartman@example.org'}\",\n b'7': b\"{'timestamp': datetime.datetime(2023, 5, 10, 2, 2, 20), 'name': 'Alfred Dillon', 'email': 'hhouston@example.org'}\",\n b'28': b\"{'timestamp': datetime.datetime(2022, 8, 21, 0, 51, 43), 'name': 'Jennifer Webster', 'email': 'justin10@example.com'}\",\n b'40': b\"{'timestamp': datetime.datetime(2022, 9, 22, 0, 19, 52), 'name': 'Manuel Washington', 'email': 'taylor28@example.com'}\",\n b'79': b\"{'timestamp': datetime.datetime(2022, 12, 1, 4, 22, 56), 'name': 'Richard Bailey', 'email': 'jstanton@example.org'}\",\n b'76': b\"{'timestamp': datetime.datetime(2022, 10, 26, 19, 8, 42), 'name': 'Mark Figueroa', 'email': 'fred79@example.net'}\",\n b'89': b\"{'timestamp': datetime.datetime(2022, 11, 1, 0, 23, 12), 'name': 'Travis King', 'email': 'youngveronica@example.net'}\",\n b'69': b\"{'timestamp': datetime.datetime(2022, 8, 1, 23, 16, 36), 'name': 'Patrick Torres', 'email': 'andreawilliams@example.org'}\",\n b'57': b\"{'timestamp': datetime.datetime(2023, 5, 15, 8, 6, 39), 'name': 'Matthew Burton', 'email': 'mathewsanchez@example.com'}\",\n b'1': b\"{'timestamp': datetime.datetime(2023, 5, 25, 12, 8, 22), 'name': 'Cody Washington', 'email': 'amber04@example.com'}\",\n b'55': b\"{'timestamp': datetime.datetime(2023, 1, 20, 22, 19, 41), 'name': 'Jeffrey Thompson', 'email': 'frederick54@example.com'}\",\n b'4': b\"{'timestamp': datetime.datetime(2023, 2, 4, 6, 58, 28), 'name': 'Sara Ortiz', 'email': 'laurenhernandez@example.net'}\",\n b'84': b\"{'timestamp': datetime.datetime(2022, 12, 5, 9, 45, 55), 'name': 'Nancy Parker', 'email': 'martinezvincent@example.com'}\",\n b'53': b\"{'timestamp': datetime.datetime(2022, 8, 12, 2, 24, 15), 'name': 'Anthony Li', 'email': 'parkdavid@example.org'}\",\n b'26': b\"{'timestamp': datetime.datetime(2022, 10, 30, 8, 13, 25), 'name': 'Rhonda Lopez', 'email': 'eric89@example.org'}\",\n b'24': b\"{'timestamp': datetime.datetime(2023, 3, 21, 10, 34, 5), 'name': 'Latasha Nunez', 'email': 'zimmermanmartha@example.com'}\",\n b'78': b\"{'timestamp': datetime.datetime(2022, 6, 30, 13, 20, 18), 'name': 'Justin Key', 'email': 'sdixon@example.net'}\",\n b'18': b\"{'timestamp': datetime.datetime(2022, 11, 15, 17, 13, 26), 'name': 'Rachel Lee', 'email': 'lynnerica@example.net'}\",\n b'62': b\"{'timestamp': datetime.datetime(2023, 2, 24, 16, 1, 55), 'name': 'Robert Hernandez', 'email': 'beth61@example.net'}\",\n b'30': b\"{'timestamp': datetime.datetime(2023, 2, 7, 9, 42, 34), 'name': 'Dr. Anthony Smith', 'email': 'cindyreed@example.com'}\",\n b'17': b\"{'timestamp': datetime.datetime(2022, 8, 17, 21, 25, 18), 'name': 'Savannah Ward', 'email': 'deborah73@example.net'}\",\n b'58': b\"{'timestamp': datetime.datetime(2023, 2, 4, 11, 30, 32), 'name': 'Randall Long', 'email': 'annacohen@example.net'}\",\n b'47': b\"{'timestamp': datetime.datetime(2022, 10, 31, 21, 37, 4), 'name': 'Ashley Young', 'email': 'hashley@example.org'}\",\n b'0': b\"{'timestamp': datetime.datetime(2022, 11, 3, 23, 17, 20), 'name': 'Scott Rodriguez', 'email': 'christina11@example.org'}\",\n b'83': b\"{'timestamp': datetime.datetime(2022, 7, 27, 6, 33, 24), 'name': 'Jennifer Sanchez', 'email': 'john03@example.com'}\",\n b'14': b\"{'timestamp': datetime.datetime(2023, 2, 7, 9, 25, 10), 'name': 'Susan Hansen', 'email': 'qcummings@example.net'}\",\n b'74': b\"{'timestamp': datetime.datetime(2022, 10, 11, 2, 56, 20), 'name': 'Amber Wong', 'email': 'fcherry@example.net'}\",\n b'94': b\"{'timestamp': datetime.datetime(2023, 6, 4, 11, 46, 1), 'name': 'Jeremy Stevenson', 'email': 'foleybrandon@example.com'}\",\n b'71': b\"{'timestamp': datetime.datetime(2022, 12, 5, 14, 43, 34), 'name': 'Daniel Malone', 'email': 'hruiz@example.org'}\",\n b'15': b\"{'timestamp': datetime.datetime(2022, 12, 16, 9, 39, 20), 'name': 'Lauren Brown', 'email': 'heather46@example.org'}\",\n b'37': b\"{'timestamp': datetime.datetime(2022, 8, 23, 17, 48, 53), 'name': 'Sean Alexander', 'email': 'johnsstephen@example.org'}\",\n b'82': b\"{'timestamp': datetime.datetime(2022, 11, 8, 13, 45, 39), 'name': 'Roy Williams', 'email': 'nicolerandolph@example.org'}\",\n b'19': b\"{'timestamp': datetime.datetime(2022, 11, 11, 16, 47, 46), 'name': 'Edgar Maxwell', 'email': 'ballalexandra@example.com'}\",\n b'32': b\"{'timestamp': datetime.datetime(2022, 6, 28, 15, 7, 36), 'name': 'Caitlin Mcgee', 'email': 'lisaholden@example.net'}\",\n b'2': b\"{'timestamp': datetime.datetime(2023, 1, 3, 0, 1, 23), 'name': 'Randy Anderson', 'email': 'blankenshipraymond@example.net'}\",\n b'38': b\"{'timestamp': datetime.datetime(2022, 7, 31, 15, 33, 45), 'name': 'Kelly Gray', 'email': 'jennifer59@example.com'}\",\n b'93': b\"{'timestamp': datetime.datetime(2022, 12, 2, 8, 23, 49), 'name': 'Patricia Miller', 'email': 'dawnmiller@example.com'}\",\n b'12': b\"{'timestamp': datetime.datetime(2022, 9, 9, 3, 28, 41), 'name': 'Warren Cohen', 'email': 'robertamorales@example.net'}\",\n b'98': b\"{'timestamp': datetime.datetime(2023, 6, 4, 4, 50, 21), 'name': 'Madison Thompson', 'email': 'flee@example.com'}\",\n b'61': b\"{'timestamp': datetime.datetime(2023, 5, 8, 17, 52, 6), 'name': 'Kathy Mccarthy', 'email': 'amandabuchanan@example.com'}\",\n b'49': b\"{'timestamp': datetime.datetime(2022, 7, 15, 0, 36, 31), 'name': 'Marie Nguyen', 'email': 'amy85@example.com'}\"}"
     },
     "execution_count": 6,
     "metadata": {},
     "output_type": "execute_result"
    }
   ],
   "source": [
    "r.hgetall('dataset1')"
   ],
   "metadata": {
    "collapsed": false,
    "ExecuteTime": {
     "start_time": "2023-06-15T17:23:14.285482Z",
     "end_time": "2023-06-15T17:23:14.332053Z"
    }
   }
  },
  {
   "cell_type": "code",
   "execution_count": 10,
   "outputs": [
    {
     "ename": "NameError",
     "evalue": "name 'pd' is not defined",
     "output_type": "error",
     "traceback": [
      "\u001B[1;31m---------------------------------------------------------------------------\u001B[0m",
      "\u001B[1;31mNameError\u001B[0m                                 Traceback (most recent call last)",
      "Cell \u001B[1;32mIn[10], line 2\u001B[0m\n\u001B[0;32m      1\u001B[0m redis_data \u001B[38;5;241m=\u001B[39m r\u001B[38;5;241m.\u001B[39mhgetall(\u001B[38;5;124m'\u001B[39m\u001B[38;5;124mdataset1\u001B[39m\u001B[38;5;124m'\u001B[39m)\n\u001B[1;32m----> 2\u001B[0m df \u001B[38;5;241m=\u001B[39m \u001B[43mpd\u001B[49m\u001B[38;5;241m.\u001B[39mDataFrame\u001B[38;5;241m.\u001B[39mfrom_dict(redis_data, orient\u001B[38;5;241m=\u001B[39m\u001B[38;5;124m'\u001B[39m\u001B[38;5;124mindex\u001B[39m\u001B[38;5;124m'\u001B[39m)\n\u001B[0;32m      3\u001B[0m df\n",
      "\u001B[1;31mNameError\u001B[0m: name 'pd' is not defined"
     ]
    }
   ],
   "source": [
    "redis_data = r.hgetall('dataset1')\n",
    "df = pd.DataFrame.from_dict(redis_data, orient='index')\n",
    "df"
   ],
   "metadata": {
    "collapsed": false
   }
  },
  {
   "cell_type": "code",
   "execution_count": 11,
   "outputs": [
    {
     "ename": "NameError",
     "evalue": "name 'pd' is not defined",
     "output_type": "error",
     "traceback": [
      "\u001B[1;31m---------------------------------------------------------------------------\u001B[0m",
      "\u001B[1;31mNameError\u001B[0m                                 Traceback (most recent call last)",
      "Cell \u001B[1;32mIn[11], line 1\u001B[0m\n\u001B[1;32m----> 1\u001B[0m \u001B[43mpd\u001B[49m\u001B[38;5;241m.\u001B[39mDataFrame([])\n",
      "\u001B[1;31mNameError\u001B[0m: name 'pd' is not defined"
     ]
    }
   ],
   "source": [],
   "metadata": {
    "collapsed": false
   }
  },
  {
   "cell_type": "code",
   "execution_count": null,
   "outputs": [],
   "source": [],
   "metadata": {
    "collapsed": false
   }
  }
 ],
 "metadata": {
  "kernelspec": {
   "display_name": "Python 3",
   "language": "python",
   "name": "python3"
  },
  "language_info": {
   "codemirror_mode": {
    "name": "ipython",
    "version": 2
   },
   "file_extension": ".py",
   "mimetype": "text/x-python",
   "name": "python",
   "nbconvert_exporter": "python",
   "pygments_lexer": "ipython2",
   "version": "2.7.6"
  }
 },
 "nbformat": 4,
 "nbformat_minor": 0
}
